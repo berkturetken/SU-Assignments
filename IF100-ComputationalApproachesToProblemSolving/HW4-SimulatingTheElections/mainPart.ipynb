{
  "nbformat": 4,
  "nbformat_minor": 0,
  "metadata": {
    "colab": {
      "name": "mainPart.ipynb",
      "provenance": [],
      "collapsed_sections": []
    },
    "kernelspec": {
      "name": "python3",
      "display_name": "Python 3"
    }
  },
  "cells": [
    {
      "cell_type": "code",
      "metadata": {
        "id": "8xAWI_eT4cJA",
        "colab_type": "code",
        "colab": {}
      },
      "source": [
        "###\n",
        "##You may modify this and previous cells##\n",
        "###\n",
        "\n"
      ],
      "execution_count": 0,
      "outputs": []
    },
    {
      "cell_type": "code",
      "metadata": {
        "id": "q4kfWCw3_tkA",
        "colab_type": "code",
        "colab": {}
      },
      "source": [
        "#############################\n",
        "## DO NOT MODIFY THIS CELL ##\n",
        "## JUST RUN THIS WHEN YOU COMPLETE YOUR FUNCTIONS ##\n",
        "#############################\n",
        "####### MAIN PROGRAM ########\n",
        "#############################\n",
        "\n",
        "print(\"Welcome to this virtual local elections Python program.\\n\")\n",
        "\n",
        "# get the names of the parties\n",
        "partyNames = []                               # stores the valid party names\n",
        "promptData = [\"first\", \"second\", \"third\"]\n",
        "for i in range(3):\n",
        "  getPartyName(promptData[i], partyNames)\n",
        "\n",
        "# dataset variable initialization\n",
        "citiesAndResults = []                         # stores the city-results information\n",
        "\n",
        "# display the menu, get user's option, and process accordingly\n",
        "option = getMenuOption()\n",
        "while option != \"4\":\n",
        "  if option == \"1\":\n",
        "    getNewResults(citiesAndResults)           # function call to update citiesAndResults with a new city\n",
        "  elif option == \"2\":\n",
        "   changeResults(citiesAndResults)            # function call to update citiesAndResults for an existing city\n",
        "  elif option == \"3\":\n",
        "    showResults(citiesAndResults, partyNames) # function call to display current election results\n",
        "  option = getMenuOption()\n",
        "\n",
        "print(\"**********\\nTerminating, good bye dear citizen!!! Do not forget to vote in elections :)\")"
      ],
      "execution_count": 0,
      "outputs": []
    }
  ]
}